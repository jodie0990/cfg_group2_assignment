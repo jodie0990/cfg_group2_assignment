{
 "cells": [
  {
   "cell_type": "markdown",
   "id": "edd7b980-529f-4610-8368-91cd0fb16f2b",
   "metadata": {},
   "source": [
    "Data cleansing for 3 datasets"
   ]
  },
  {
   "cell_type": "code",
   "execution_count": 1,
   "id": "d31d3374-051f-4df6-8d37-a8cd4c105bae",
   "metadata": {},
   "outputs": [],
   "source": [
    "import pandas as pd\n",
    "import numpy as np"
   ]
  },
  {
   "cell_type": "code",
   "execution_count": null,
   "id": "b7a3bf31-4fd2-49be-a74a-c11e346d39b2",
   "metadata": {},
   "outputs": [],
   "source": []
  }
 ],
 "metadata": {
  "kernelspec": {
   "display_name": "Python 3 (ipykernel)",
   "language": "python",
   "name": "python3"
  },
  "language_info": {
   "codemirror_mode": {
    "name": "ipython",
    "version": 3
   },
   "file_extension": ".py",
   "mimetype": "text/x-python",
   "name": "python",
   "nbconvert_exporter": "python",
   "pygments_lexer": "ipython3",
   "version": "3.13.1"
  }
 },
 "nbformat": 4,
 "nbformat_minor": 5
}
