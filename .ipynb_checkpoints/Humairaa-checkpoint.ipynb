{
 "cells": [
  {
   "cell_type": "code",
   "execution_count": null,
   "id": "8919d614-d777-4bf8-a79f-75bf6dd52d82",
   "metadata": {},
   "outputs": [],
   "source": [
    "Descriptive Analysis- Dataset 1\n",
    "-Calculate mean time on social media per day/week/month.\n",
    "- Find average mental health ratings from data could do by age and gender?\n",
    "- Group data by gender to explore differences\n"
   ]
  },
  {
   "cell_type": "code",
   "execution_count": 13,
   "id": "14b36af2-994a-41b9-a539-bb02e74ca90c",
   "metadata": {},
   "outputs": [
    {
     "name": "stdout",
     "output_type": "stream",
     "text": [
      "Mean time on social media:\n",
      "Per Day   : 1.72 hours\n",
      "Per Week  : 12.04 hours\n",
      "Per Month : 51.62 hours\n"
     ]
    }
   ],
   "source": [
    "#Calculate mean time on social media per day/week/month.\n",
    "import pandas as pd\n",
    "\n",
    "# Load the CSV without using any row as a header\n",
    "df = pd.read_csv('clean_dataset_1.csv', header=None)\n",
    "\n",
    "# Rename the column holding time spent values\n",
    "time_spent_col = 10  \n",
    "\n",
    "# Convert the time spent column to numeric\n",
    "df[time_spent_col] = pd.to_numeric(df[time_spent_col], errors='coerce')\n",
    "\n",
    "# Drop missing values \n",
    "df = df.dropna(subset=[time_spent_col])\n",
    "\n",
    "# Compute mean time spent on social media per day/week/month\n",
    "mean_per_day = df[time_spent_col].mean()\n",
    "mean_per_week = mean_per_day * 7\n",
    "mean_per_month = mean_per_day * 30\n",
    "\n",
    "# Output the results\n",
    "print(f\"Mean time on social media:\")\n",
    "print(f\"Per Day   : {mean_per_day:.2f} hours\")\n",
    "print(f\"Per Week  : {mean_per_week:.2f} hours\")\n",
    "print(f\"Per Month : {mean_per_month:.2f} hours\")\n",
    "\n"
   ]
  },
  {
   "cell_type": "code",
   "execution_count": 25,
   "id": "1b154111-c185-44ba-9a9a-4fa0218f4e3e",
   "metadata": {},
   "outputs": [
    {
     "name": "stdout",
     "output_type": "stream",
     "text": [
      "Average Mental Health Scores by Gender:\n",
      "\n",
      "        BSMAS   RSES\n",
      "Gender              \n",
      "Female  13.39  14.87\n",
      "Male    12.33  18.06\n",
      "\n",
      "Average Mental Health Scores by Age:\n",
      "\n",
      "     BSMAS   RSES\n",
      "Age              \n",
      "14   14.17  19.83\n",
      "15   11.87  16.03\n",
      "16   12.61  16.91\n",
      "17   12.22  15.90\n",
      "18   13.12  17.31\n",
      "19   14.74  13.91\n"
     ]
    }
   ],
   "source": [
    "#Find average mental health ratings from data could do by age and gender?\n",
    "import pandas as pd\n",
    "\n",
    "# Load the dataset\n",
    "df = pd.read_csv('clean_dataset_1.csv', header=1)\n",
    "\n",
    "# Check the column names to ensure they are correct\n",
    "#print(df.columns)\n",
    "\n",
    "df.columns = ['Sex', 'Age', 'School failure', 'Whatsapp', 'Facebook', 'Instagram', 'Twitter', 'Snapchat', \n",
    "              'TikTok', 'Other social', 'Time spent on social media', 'Daily use of social media', \n",
    "              'Which Device', 'Time flows', 'Perceived anxiety during SM use', 'Perceived loneliness', \n",
    "              'SM checking', 'BSMAS', 'RSES']\n",
    "\n",
    "# Verify the first few rows to ensure correct data loading\n",
    "#print(df.head())\n",
    "\n",
    "# Map numerical gender to labels \n",
    "df['Gender'] = df['Sex'].map({1: 'Male', 2: 'Female'})\n",
    "\n",
    "# Drop rows with missing values in key columns (BSMAS, RSES, Age, Gender)\n",
    "df = df.dropna(subset=['BSMAS', 'RSES', 'Age', 'Gender'])\n",
    "\n",
    "# Convert BSMAS and RSES to numeric\n",
    "df[['BSMAS', 'RSES']] = df[['BSMAS', 'RSES']].apply(pd.to_numeric, errors='coerce')\n",
    "\n",
    "# Calculate the average mental health scores by Gender\n",
    "avg_by_gender = df.groupby('Gender')[['BSMAS', 'RSES']].mean().round(2)\n",
    "print(\"Average Mental Health Scores by Gender:\\n\")\n",
    "print(avg_by_gender)\n",
    "\n",
    "# Calculate the average mental health scores by Age\n",
    "avg_by_age = df.groupby('Age')[['BSMAS', 'RSES']].mean().round(2)\n",
    "print(\"\\nAverage Mental Health Scores by Age:\\n\")\n",
    "print(avg_by_age)\n"
   ]
  },
  {
   "cell_type": "code",
   "execution_count": 27,
   "id": "81d6b55c-7a75-4722-a93f-a521d87ab4bf",
   "metadata": {},
   "outputs": [
    {
     "name": "stdout",
     "output_type": "stream",
     "text": [
      " Average Mental Health Scores by Gender:\n",
      "\n",
      "        Perceived anxiety during SM use  Perceived loneliness\n",
      "Gender                                                       \n",
      "Female                             0.86                  0.80\n",
      "Male                               0.91                  0.92\n",
      "\n",
      " Difference in Mental Health Scores between Male and Female:\n",
      "\n",
      "Perceived anxiety during SM use    0.05\n",
      "Perceived loneliness               0.12\n",
      "dtype: float64\n"
     ]
    }
   ],
   "source": [
    "#Group data by gender to explore differences\n",
    "import pandas as pd\n",
    "\n",
    "# Load the dataset\n",
    "df = pd.read_csv('clean_dataset_1.csv', header=1)\n",
    "\n",
    "# Manually rename the columns\n",
    "df.columns = ['Sex', 'Age', 'School failure', 'Whatsapp', 'Facebook', 'Instagram', 'Twitter', 'Snapchat', \n",
    "              'TikTok', 'Other social', 'Time spent on social media', 'Daily use of social media', \n",
    "              'Which Device', 'Time flows', 'Perceived anxiety during SM use', 'Perceived loneliness', \n",
    "              'SM checking', 'BSMAS', 'RSES']\n",
    "\n",
    "# Create readable gender labels \n",
    "df['Gender'] = df['Sex'].map({1: 'Male', 2: 'Female'})\n",
    "\n",
    "# Columns related to mental health\n",
    "mental_health_cols = ['Perceived anxiety during SM use', 'Perceived loneliness'] \n",
    "\n",
    "# Drop rows with missing values in key columns\n",
    "df = df.dropna(subset=mental_health_cols + ['Age', 'Gender'])\n",
    "\n",
    "# Group by Gender and calculate average mental health scores\n",
    "avg_by_gender = df.groupby('Gender')[mental_health_cols].mean().round(2)\n",
    "\n",
    "# Print average mental health scores by gender\n",
    "print(\" Average Mental Health Scores by Gender:\\n\")\n",
    "print(avg_by_gender)\n",
    "\n",
    "# Calculate the difference between Male and Female mental health scores\n",
    "gender_diff = avg_by_gender.loc['Male'] - avg_by_gender.loc['Female']\n",
    "\n",
    "# Print the difference in mental health scores between Male and Female\n",
    "print(\"\\n Difference in Mental Health Scores between Male and Female:\\n\")\n",
    "print(gender_diff.round(2))\n",
    "\n"
   ]
  },
  {
   "cell_type": "code",
   "execution_count": null,
   "id": "e137d8a8-2427-4ad0-8b17-ddd43db1caca",
   "metadata": {},
   "outputs": [],
   "source": [
    "Descriptive Analysis- Dataset 3\n",
    "-Calculate mean time on social media per day/week/month.\n",
    "- Find average How Often Feel Depressed or Down from data could do by age and gender?\n",
    "- Group data by gender to explore differences"
   ]
  },
  {
   "cell_type": "code",
   "execution_count": 4,
   "id": "c0395e81-6cdb-469e-8006-a17a74ba5249",
   "metadata": {},
   "outputs": [
    {
     "name": "stdout",
     "output_type": "stream",
     "text": [
      "Average time on social media:\n",
      "- Per Day: 3.21 hours\n",
      "- Per Week: 22.47 hours\n",
      "- Per Month: 96.29 hours\n"
     ]
    }
   ],
   "source": [
    "#Calculate mean time on social media per day/week/month\n",
    "import pandas as pd\n",
    "\n",
    "# Load the data \n",
    "df = pd.read_csv('clean_dataset_3.csv')\n",
    "\n",
    "#Calculate mean time per day\n",
    "mean_daily_hours = df['Social Media Hours'].mean()\n",
    "\n",
    "#Calculate weekly and monthly estimates\n",
    "mean_weekly_hours = mean_daily_hours * 7\n",
    "mean_monthly_hours = mean_daily_hours * 30 \n",
    "\n",
    "#Display results\n",
    "print(f\"Average time on social media:\")\n",
    "print(f\"- Per Day: {mean_daily_hours:.2f} hours\")\n",
    "print(f\"- Per Week: {mean_weekly_hours:.2f} hours\")\n",
    "print(f\"- Per Month: {mean_monthly_hours:.2f} hours\")\n"
   ]
  },
  {
   "cell_type": "code",
   "execution_count": 13,
   "id": "75f3afd6-21f8-4e5e-a4ae-8c22dd0478d9",
   "metadata": {},
   "outputs": [
    {
     "name": "stdout",
     "output_type": "stream",
     "text": [
      "\n",
      "Average 'How Often Feel Depressed or Down' by Age:\n",
      "Age\n",
      "21.0    3.57\n",
      "22.0    3.36\n",
      "23.0    3.60\n",
      "24.0    3.50\n",
      "25.0    3.82\n",
      "26.0    3.65\n",
      "26.7    4.00\n",
      "27.0    3.36\n",
      "28.0    4.20\n",
      "29.0    3.83\n",
      "30.0    3.50\n",
      "Name: How Often Feel Depressed or Down, dtype: float64\n",
      "\n",
      "Average 'How Often Feel Depressed or Down' by Gender:\n",
      "Sex\n",
      "Female    3.58\n",
      "Male      3.49\n",
      "Other     2.50\n",
      "Name: How Often Feel Depressed or Down, dtype: float64\n"
     ]
    }
   ],
   "source": [
    "#Find average How Often Feel Depressed or Down from data could do by age and gender?\n",
    "import pandas as pd\n",
    "\n",
    "# Load the dataset\n",
    "df = pd.read_csv('clean_dataset_3.csv')\n",
    "\n",
    "# Display column names\n",
    "#print(\"Columns:\", df.columns.tolist())\n",
    "\n",
    "# Check for missing values in key columns (Age, Sex, and How Often Feel Depressed or Down)\n",
    "missing_values = df[['Age', 'Sex', 'How Often Feel Depressed or Down']].isnull().sum()\n",
    "\n",
    "# Clean data: drop rows with missing values in the target columns\n",
    "df_cleaned = df.dropna(subset=['Age', 'Sex', 'How Often Feel Depressed or Down'])\n",
    "\n",
    "# Convert 'Sex' to numeric codes\n",
    "df_cleaned['Sex'] = pd.to_numeric(df_cleaned['Sex'], errors='coerce')\n",
    "\n",
    "#Map the numeric codes and non-standard values\n",
    "sex_map = {\n",
    "    1: 'Male',\n",
    "    2: 'Female',\n",
    "    'Nonbinary': 'Nonbinary',\n",
    "    'There are others???': 'Other'\n",
    "}\n",
    "\n",
    "# Clean the 'Sex' column based on the mapping\n",
    "df_cleaned['Sex'] = df_cleaned['Sex'].map(sex_map).fillna('Other')  # Handle unmatched values as 'Other'\n",
    "\n",
    "# Age - Calculate the average 'How Often Feel Depressed or Down' by Age\n",
    "avg_by_age = df_cleaned.groupby('Age')['How Often Feel Depressed or Down'].mean().round(2)\n",
    "print(\"\\nAverage 'How Often Feel Depressed or Down' by Age:\")\n",
    "print(avg_by_age)\n",
    "\n",
    "# Gender - Calculate the average 'How Often Feel Depressed or Down' by Gender\n",
    "avg_by_gender = df_cleaned.groupby('Sex')['How Often Feel Depressed or Down'].mean().round(2)\n",
    "print(\"\\nAverage 'How Often Feel Depressed or Down' by Gender:\")\n",
    "print(avg_by_gender)\n"
   ]
  },
  {
   "cell_type": "code",
   "execution_count": 18,
   "id": "6a67240a-cc5c-46f6-89c6-3d51bd5f0b94",
   "metadata": {},
   "outputs": [
    {
     "name": "stdout",
     "output_type": "stream",
     "text": [
      "\n",
      "Average 'How Often Feel Depressed or Down' by Gender:\n",
      "Sex\n",
      "Female    3.58\n",
      "Male      3.49\n",
      "Other     2.50\n",
      "Name: How Often Feel Depressed or Down, dtype: float64\n",
      "\n",
      " Difference in Mental Health Scores between Male and Female:\n",
      "\n",
      "-0.09\n"
     ]
    }
   ],
   "source": [
    "#Group data by gender to explore differences\n",
    "import pandas as pd\n",
    "\n",
    "# Load the dataset\n",
    "df = pd.read_csv('clean_dataset_3.csv')\n",
    "\n",
    "# Gender - Calculate the average 'How Often Feel Depressed or Down' by Gender\n",
    "avg_by_gender = df_cleaned.groupby('Sex')['How Often Feel Depressed or Down'].mean().round(2)\n",
    "print(\"\\nAverage 'How Often Feel Depressed or Down' by Gender:\")\n",
    "print(avg_by_gender)\n",
    "\n",
    "# Calculate the difference between Male and Female mental health scores\n",
    "gender_diff = avg_by_gender.loc['Male'] - avg_by_gender.loc['Female']\n",
    "\n",
    "# Print the difference in mental health scores between Male and Female\n",
    "print(\"\\n Difference in Mental Health Scores between Male and Female:\\n\")\n",
    "print(gender_diff.round(2))"
   ]
  },
  {
   "cell_type": "code",
   "execution_count": null,
   "id": "25030286-c66b-439d-b9b1-9edc919fe65d",
   "metadata": {},
   "outputs": [],
   "source": []
  }
 ],
 "metadata": {
  "kernelspec": {
   "display_name": "Python 3 (ipykernel)",
   "language": "python",
   "name": "python3"
  },
  "language_info": {
   "codemirror_mode": {
    "name": "ipython",
    "version": 3
   },
   "file_extension": ".py",
   "mimetype": "text/x-python",
   "name": "python",
   "nbconvert_exporter": "python",
   "pygments_lexer": "ipython3",
   "version": "3.13.1"
  }
 },
 "nbformat": 4,
 "nbformat_minor": 5
}
