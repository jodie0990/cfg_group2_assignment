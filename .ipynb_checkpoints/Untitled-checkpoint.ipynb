{
 "cells": [
  {
   "cell_type": "code",
   "execution_count": null,
   "id": "8919d614-d777-4bf8-a79f-75bf6dd52d82",
   "metadata": {},
   "outputs": [],
   "source": [
    "Descriptive Analysis- Dataset 1\n",
    "-Calculate mean time on social media per day/week/month.\n",
    "- Find average mental health ratings from data could do by age and gender?\n",
    "- Group data by gender to explore differences\n"
   ]
  },
  {
   "cell_type": "code",
   "execution_count": 13,
   "id": "14b36af2-994a-41b9-a539-bb02e74ca90c",
   "metadata": {},
   "outputs": [
    {
     "name": "stdout",
     "output_type": "stream",
     "text": [
      "Mean time on social media:\n",
      "Per Day   : 1.72 hours\n",
      "Per Week  : 12.04 hours\n",
      "Per Month : 51.62 hours\n"
     ]
    }
   ],
   "source": [
    "#Calculate mean time on social media per day/week/month.\n",
    "import pandas as pd\n",
    "\n",
    "# Load the CSV without using any row as a header\n",
    "df = pd.read_csv('clean_dataset_1.csv', header=None)\n",
    "\n",
    "# Rename the column holding time spent values (based on your example, it's column 1.2)\n",
    "time_spent_col = 10  # Column index for '1.2' based on your printout\n",
    "\n",
    "# Convert the time spent column to numeric, just in case\n",
    "df[time_spent_col] = pd.to_numeric(df[time_spent_col], errors='coerce')\n",
    "\n",
    "# Drop missing values (if any)\n",
    "df = df.dropna(subset=[time_spent_col])\n",
    "\n",
    "# Compute mean time spent on social media per day/week/month\n",
    "mean_per_day = df[time_spent_col].mean()\n",
    "mean_per_week = mean_per_day * 7\n",
    "mean_per_month = mean_per_day * 30\n",
    "\n",
    "# Output the results\n",
    "print(f\"Mean time on social media:\")\n",
    "print(f\"Per Day   : {mean_per_day:.2f} hours\")\n",
    "print(f\"Per Week  : {mean_per_week:.2f} hours\")\n",
    "print(f\"Per Month : {mean_per_month:.2f} hours\")\n",
    "\n"
   ]
  },
  {
   "cell_type": "code",
   "execution_count": 25,
   "id": "1b154111-c185-44ba-9a9a-4fa0218f4e3e",
   "metadata": {},
   "outputs": [
    {
     "name": "stdout",
     "output_type": "stream",
     "text": [
      "Average Mental Health Scores by Gender:\n",
      "\n",
      "        BSMAS   RSES\n",
      "Gender              \n",
      "Female  13.39  14.87\n",
      "Male    12.33  18.06\n",
      "\n",
      "Average Mental Health Scores by Age:\n",
      "\n",
      "     BSMAS   RSES\n",
      "Age              \n",
      "14   14.17  19.83\n",
      "15   11.87  16.03\n",
      "16   12.61  16.91\n",
      "17   12.22  15.90\n",
      "18   13.12  17.31\n",
      "19   14.74  13.91\n"
     ]
    }
   ],
   "source": [
    "#Find average mental health ratings from data could do by age and gender?\n",
    "import pandas as pd\n",
    "\n",
    "# Load the dataset, skipping the first row and setting the second row as the header\n",
    "df = pd.read_csv('clean_dataset_1.csv', header=1)\n",
    "\n",
    "# Check the column names to ensure they are correct\n",
    "#print(df.columns)\n",
    "\n",
    "# If needed, manually rename the columns\n",
    "df.columns = ['Sex', 'Age', 'School failure', 'Whatsapp', 'Facebook', 'Instagram', 'Twitter', 'Snapchat', \n",
    "              'TikTok', 'Other social', 'Time spent on social media', 'Daily use of social media', \n",
    "              'Which Device', 'Time flows', 'Perceived anxiety during SM use', 'Perceived loneliness', \n",
    "              'SM checking', 'BSMAS', 'RSES']\n",
    "\n",
    "# Verify the first few rows to ensure correct data loading\n",
    "#print(df.head())\n",
    "\n",
    "# Map numerical gender to labels (assuming 1 is Male and 2 is Female)\n",
    "df['Gender'] = df['Sex'].map({1: 'Male', 2: 'Female'})\n",
    "\n",
    "# Drop rows with missing values in key columns (BSMAS, RSES, Age, Gender)\n",
    "df = df.dropna(subset=['BSMAS', 'RSES', 'Age', 'Gender'])\n",
    "\n",
    "# Convert BSMAS and RSES to numeric if they are not already\n",
    "df[['BSMAS', 'RSES']] = df[['BSMAS', 'RSES']].apply(pd.to_numeric, errors='coerce')\n",
    "\n",
    "# Calculate the average mental health scores by Gender\n",
    "avg_by_gender = df.groupby('Gender')[['BSMAS', 'RSES']].mean().round(2)\n",
    "print(\"Average Mental Health Scores by Gender:\\n\")\n",
    "print(avg_by_gender)\n",
    "\n",
    "# Calculate the average mental health scores by Age\n",
    "avg_by_age = df.groupby('Age')[['BSMAS', 'RSES']].mean().round(2)\n",
    "print(\"\\nAverage Mental Health Scores by Age:\\n\")\n",
    "print(avg_by_age)\n"
   ]
  },
  {
   "cell_type": "code",
   "execution_count": 27,
   "id": "81d6b55c-7a75-4722-a93f-a521d87ab4bf",
   "metadata": {},
   "outputs": [
    {
     "name": "stdout",
     "output_type": "stream",
     "text": [
      " Average Mental Health Scores by Gender:\n",
      "\n",
      "        Perceived anxiety during SM use  Perceived loneliness\n",
      "Gender                                                       \n",
      "Female                             0.86                  0.80\n",
      "Male                               0.91                  0.92\n",
      "\n",
      " Difference in Mental Health Scores between Male and Female:\n",
      "\n",
      "Perceived anxiety during SM use    0.05\n",
      "Perceived loneliness               0.12\n",
      "dtype: float64\n"
     ]
    }
   ],
   "source": [
    "#Group data by gender to explore differences\n",
    "import pandas as pd\n",
    "\n",
    "# Load the dataset, skipping the first row and setting the second row as the header\n",
    "df = pd.read_csv('clean_dataset_1.csv', header=1)\n",
    "\n",
    "# Manually rename the columns\n",
    "df.columns = ['Sex', 'Age', 'School failure', 'Whatsapp', 'Facebook', 'Instagram', 'Twitter', 'Snapchat', \n",
    "              'TikTok', 'Other social', 'Time spent on social media', 'Daily use of social media', \n",
    "              'Which Device', 'Time flows', 'Perceived anxiety during SM use', 'Perceived loneliness', \n",
    "              'SM checking', 'BSMAS', 'RSES']\n",
    "\n",
    "# Create readable gender labels (1 = Male, 2 = Female)\n",
    "df['Gender'] = df['Sex'].map({1: 'Male', 2: 'Female'})\n",
    "\n",
    "# Columns related to mental health (as identified)\n",
    "mental_health_cols = ['Perceived anxiety during SM use', 'Perceived loneliness'] \n",
    "\n",
    "# Drop rows with missing values in key columns (mental health and gender)\n",
    "df = df.dropna(subset=mental_health_cols + ['Age', 'Gender'])\n",
    "\n",
    "# Group by Gender and calculate average mental health scores\n",
    "avg_by_gender = df.groupby('Gender')[mental_health_cols].mean().round(2)\n",
    "\n",
    "# Print average mental health scores by gender\n",
    "print(\" Average Mental Health Scores by Gender:\\n\")\n",
    "print(avg_by_gender)\n",
    "\n",
    "# Calculate the difference between Male and Female mental health scores\n",
    "gender_diff = avg_by_gender.loc['Male'] - avg_by_gender.loc['Female']\n",
    "\n",
    "# Print the difference in mental health scores between Male and Female\n",
    "print(\"\\n Difference in Mental Health Scores between Male and Female:\\n\")\n",
    "print(gender_diff.round(2))\n",
    "\n"
   ]
  },
  {
   "cell_type": "code",
   "execution_count": null,
   "id": "e137d8a8-2427-4ad0-8b17-ddd43db1caca",
   "metadata": {},
   "outputs": [],
   "source": []
  }
 ],
 "metadata": {
  "kernelspec": {
   "display_name": "Python 3 (ipykernel)",
   "language": "python",
   "name": "python3"
  },
  "language_info": {
   "codemirror_mode": {
    "name": "ipython",
    "version": 3
   },
   "file_extension": ".py",
   "mimetype": "text/x-python",
   "name": "python",
   "nbconvert_exporter": "python",
   "pygments_lexer": "ipython3",
   "version": "3.13.1"
  }
 },
 "nbformat": 4,
 "nbformat_minor": 5
}
