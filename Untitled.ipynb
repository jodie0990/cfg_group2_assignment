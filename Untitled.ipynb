{
 "cells": [
  {
   "cell_type": "code",
   "execution_count": 12,
   "id": "14b36af2-994a-41b9-a539-bb02e74ca90c",
   "metadata": {},
   "outputs": [
    {
     "name": "stdout",
     "output_type": "stream",
     "text": [
      "Mean time on social media:\n",
      "Per Day   : 1.72 hours\n",
      "Per Week  : 12.04 hours\n",
      "Per Month : 51.62 hours\n"
     ]
    }
   ],
   "source": [
    "import pandas as pd\n",
    "\n",
    "# Load the CSV without using any row as a header\n",
    "df = pd.read_csv('clean_dataset_1.csv', header=None)\n",
    "\n",
    "# Rename the column holding time spent values (based on your example, it's column 1.2)\n",
    "time_spent_col = 10  # Column index for '1.2' based on your printout\n",
    "\n",
    "# Convert the time spent column to numeric, just in case\n",
    "df[time_spent_col] = pd.to_numeric(df[time_spent_col], errors='coerce')\n",
    "\n",
    "# Drop missing values (if any)\n",
    "df = df.dropna(subset=[time_spent_col])\n",
    "\n",
    "# Compute mean time spent on social media per day/week/month\n",
    "mean_per_day = df[time_spent_col].mean()\n",
    "mean_per_week = mean_per_day * 7\n",
    "mean_per_month = mean_per_day * 30\n",
    "\n",
    "# Output the results\n",
    "print(f\"Mean time on social media:\")\n",
    "print(f\"Per Day   : {mean_per_day:.2f} hours\")\n",
    "print(f\"Per Week  : {mean_per_week:.2f} hours\")\n",
    "print(f\"Per Month : {mean_per_month:.2f} hours\")\n",
    "\n"
   ]
  },
  {
   "cell_type": "code",
   "execution_count": 11,
   "id": "1b154111-c185-44ba-9a9a-4fa0218f4e3e",
   "metadata": {},
   "outputs": [
    {
     "name": "stdout",
     "output_type": "stream",
     "text": [
      "   2  17  0  1  0.1  1.1  0.2  0.3  0.4  0.5  1.2  1.3  0.6  1.4  1.5  1.6  \\\n",
      "0  1  17  0  1    0    1    0    0    0    1    1    1    0    1    0    1   \n",
      "1  2  17  0  0    0    1    0    0    0    0    3    1    0    1    1    0   \n",
      "2  2  18  0  0    0    1    0    0    1    0    3    0    2    2    1    2   \n",
      "3  2  17  0  0    0    1    0    0    1    0    1    1    0    2    1    1   \n",
      "4  2  16  1  1    0    1    0    0    1    0    4    1    0    1    0    1   \n",
      "5  2  18  0  1    0    1    0    0    0    0    5    1    0    1    1    1   \n",
      "6  2  16  0  1    0    1    0    0    0    0    0    1    0    2    1    0   \n",
      "7  1  16  0  1    0    1    0    0    0    0    0    1    0    1    1    1   \n",
      "8  2  16  0  1    0    0    0    0    1    0    2    0    0    0    1    1   \n",
      "9  1  19  0  1    0    1    0    0    0    0    0    1    0    2    1    2   \n",
      "\n",
      "   0.7  24  27  \n",
      "0    1  17  15  \n",
      "1    1  24  14  \n",
      "2    3  21   9  \n",
      "3    1   6   9  \n",
      "4    3  14  19  \n",
      "5    2  14   6  \n",
      "6    0   6  18  \n",
      "7    0  17  14  \n",
      "8    1  13  19  \n",
      "9    0   9   4  \n"
     ]
    }
   ],
   "source": []
  },
  {
   "cell_type": "code",
   "execution_count": null,
   "id": "81d6b55c-7a75-4722-a93f-a521d87ab4bf",
   "metadata": {},
   "outputs": [],
   "source": []
  }
 ],
 "metadata": {
  "kernelspec": {
   "display_name": "Python 3 (ipykernel)",
   "language": "python",
   "name": "python3"
  },
  "language_info": {
   "codemirror_mode": {
    "name": "ipython",
    "version": 3
   },
   "file_extension": ".py",
   "mimetype": "text/x-python",
   "name": "python",
   "nbconvert_exporter": "python",
   "pygments_lexer": "ipython3",
   "version": "3.13.1"
  }
 },
 "nbformat": 4,
 "nbformat_minor": 5
}
